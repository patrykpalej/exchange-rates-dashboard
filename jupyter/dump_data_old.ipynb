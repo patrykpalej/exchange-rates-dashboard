{
 "cells": [
  {
   "cell_type": "code",
   "execution_count": 1,
   "metadata": {},
   "outputs": [
    {
     "data": {
      "text/html": [
       "<style>.container { width:95% !important; }</style>"
      ],
      "text/plain": [
       "<IPython.core.display.HTML object>"
      ]
     },
     "metadata": {},
     "output_type": "display_data"
    }
   ],
   "source": [
    "import time\n",
    "import numpy as np\n",
    "import pandas as pd \n",
    "from datetime import datetime, date\n",
    "from datetime import timedelta\n",
    "import matplotlib.pyplot as plt\n",
    "\n",
    "from IPython.core.display import display, HTML\n",
    "display(HTML(\"<style>.container { width:95% !important; }</style>\"))\n",
    "\n",
    "from forex_python.converter import CurrencyRates\n",
    "c = CurrencyRates()"
   ]
  },
  {
   "cell_type": "code",
   "execution_count": 2,
   "metadata": {},
   "outputs": [],
   "source": [
    "days_elapsed = 10 #(datetime.now() - datetime(1999, 1, 4, 1, 0)).days + 1\n",
    "df = pd.DataFrame(columns=['USD-EUR','USD-GBP', 'USD-CHF', 'EUR-USD', 'EUR-GBP', 'EUR-CHF', 'GBP-USD', 'GBP-EUR', 'GBP-CHF', 'CHF-USD', 'CHF-EUR', 'CHF-GBP', 'USD-PLN', 'EUR-PLN', 'GBP-PLN', 'CHF-PLN'],\n",
    "                  index=pd.to_datetime([datetime(1999, 1, 4, 1, 0) + timedelta(days=x) for x in range(days_elapsed)]))\n",
    "\n",
    "for i in df.index:\n",
    "    time.sleep(0.2)\n",
    "    dt = pd.to_datetime(i)\n",
    "    \n",
    "    # USD\n",
    "    usd = c.get_rates('USD', dt)\n",
    "    df['USD-EUR'].loc[dt] = usd['EUR']\n",
    "    df['USD-GBP'].loc[dt] = usd['GBP']\n",
    "    df['USD-CHF'].loc[dt] = usd['CHF']\n",
    "    df['USD-PLN'].loc[dt] = usd['PLN']\n",
    "    \n",
    "    # EUR\n",
    "    eur = c.get_rates('EUR', dt)\n",
    "    df['EUR-USD'].loc[dt] = eur['USD']\n",
    "    df['EUR-GBP'].loc[dt] = eur['GBP']\n",
    "    df['EUR-CHF'].loc[dt] = eur['CHF']\n",
    "    df['EUR-PLN'].loc[dt] = eur['PLN']\n",
    "    \n",
    "    # GBP\n",
    "    gbp = c.get_rates('GBP', dt)\n",
    "    df['GBP-USD'].loc[dt] = gbp['USD']\n",
    "    df['GBP-EUR'].loc[dt] = gbp['EUR']\n",
    "    df['GBP-CHF'].loc[dt] = gbp['CHF']\n",
    "    df['GBP-PLN'].loc[dt] = gbp['PLN']\n",
    "    \n",
    "    # CHF\n",
    "    chf = c.get_rates('CHF', dt)\n",
    "    df['CHF-USD'].loc[dt] = chf['USD']\n",
    "    df['CHF-EUR'].loc[dt] = chf['EUR']\n",
    "    df['CHF-GBP'].loc[dt] = chf['GBP']\n",
    "    df['CHF-PLN'].loc[dt] = chf['PLN']\n",
    "    \n",
    "\n",
    "df.to_csv(\"exchange_rates.csv\", sep=';')"
   ]
  },
  {
   "cell_type": "code",
   "execution_count": 5,
   "metadata": {},
   "outputs": [
    {
     "data": {
      "text/plain": [
       "datetime.datetime(2020, 8, 9, 10, 18, 20, 794377)"
      ]
     },
     "execution_count": 5,
     "metadata": {},
     "output_type": "execute_result"
    }
   ],
   "source": [
    " datetime.now()"
   ]
  },
  {
   "cell_type": "code",
   "execution_count": 13,
   "metadata": {},
   "outputs": [
    {
     "data": {
      "text/plain": [
       "3.7165766374"
      ]
     },
     "execution_count": 13,
     "metadata": {},
     "output_type": "execute_result"
    }
   ],
   "source": [
    "c.get_rates('USD', datetime(2020, 8, 2, 18, 0))['PLN']"
   ]
  },
  {
   "cell_type": "code",
   "execution_count": null,
   "metadata": {},
   "outputs": [],
   "source": [
    "curr_Layer: 3.75"
   ]
  },
  {
   "cell_type": "code",
   "execution_count": null,
   "metadata": {},
   "outputs": [],
   "source": [
    "google: 3.75"
   ]
  },
  {
   "cell_type": "code",
   "execution_count": null,
   "metadata": {},
   "outputs": [],
   "source": [
    "EURO  12/3"
   ]
  },
  {
   "cell_type": "code",
   "execution_count": 14,
   "metadata": {},
   "outputs": [
    {
     "data": {
      "text/plain": [
       "4.3599"
      ]
     },
     "execution_count": 14,
     "metadata": {},
     "output_type": "execute_result"
    }
   ],
   "source": [
    "c.get_rates('EUR', datetime(2020, 3, 12, 12, 0))['PLN']"
   ]
  },
  {
   "cell_type": "code",
   "execution_count": null,
   "metadata": {},
   "outputs": [],
   "source": [
    "ALIOR 4.375"
   ]
  },
  {
   "cell_type": "code",
   "execution_count": null,
   "metadata": {},
   "outputs": [],
   "source": [
    "curr: 4.38"
   ]
  },
  {
   "cell_type": "code",
   "execution_count": null,
   "metadata": {},
   "outputs": [],
   "source": [
    "goog: 4.38"
   ]
  },
  {
   "cell_type": "code",
   "execution_count": null,
   "metadata": {},
   "outputs": [],
   "source": [
    "18.7  3.91,  "
   ]
  },
  {
   "cell_type": "code",
   "execution_count": 3,
   "metadata": {
    "scrolled": true
   },
   "outputs": [
    {
     "data": {
      "text/html": [
       "<div>\n",
       "<style scoped>\n",
       "    .dataframe tbody tr th:only-of-type {\n",
       "        vertical-align: middle;\n",
       "    }\n",
       "\n",
       "    .dataframe tbody tr th {\n",
       "        vertical-align: top;\n",
       "    }\n",
       "\n",
       "    .dataframe thead th {\n",
       "        text-align: right;\n",
       "    }\n",
       "</style>\n",
       "<table border=\"1\" class=\"dataframe\">\n",
       "  <thead>\n",
       "    <tr style=\"text-align: right;\">\n",
       "      <th></th>\n",
       "      <th>USD-EUR</th>\n",
       "      <th>USD-GBP</th>\n",
       "      <th>USD-CHF</th>\n",
       "      <th>EUR-USD</th>\n",
       "      <th>EUR-GBP</th>\n",
       "      <th>EUR-CHF</th>\n",
       "      <th>GBP-USD</th>\n",
       "      <th>GBP-EUR</th>\n",
       "      <th>GBP-CHF</th>\n",
       "      <th>CHF-USD</th>\n",
       "      <th>CHF-EUR</th>\n",
       "      <th>CHF-GBP</th>\n",
       "      <th>USD-PLN</th>\n",
       "      <th>EUR-PLN</th>\n",
       "      <th>GBP-PLN</th>\n",
       "      <th>CHF-PLN</th>\n",
       "    </tr>\n",
       "  </thead>\n",
       "  <tbody>\n",
       "    <tr>\n",
       "      <td>1999-01-04 01:00:00</td>\n",
       "      <td>0.848248</td>\n",
       "      <td>0.603189</td>\n",
       "      <td>1.37145</td>\n",
       "      <td>1.1789</td>\n",
       "      <td>0.7111</td>\n",
       "      <td>1.6168</td>\n",
       "      <td>1.65785</td>\n",
       "      <td>1.40627</td>\n",
       "      <td>2.27366</td>\n",
       "      <td>0.729156</td>\n",
       "      <td>0.618506</td>\n",
       "      <td>0.439819</td>\n",
       "      <td>3.45339</td>\n",
       "      <td>4.0712</td>\n",
       "      <td>5.72521</td>\n",
       "      <td>2.51806</td>\n",
       "    </tr>\n",
       "    <tr>\n",
       "      <td>1999-01-05 01:00:00</td>\n",
       "      <td>0.848176</td>\n",
       "      <td>0.604071</td>\n",
       "      <td>1.36751</td>\n",
       "      <td>1.179</td>\n",
       "      <td>0.7122</td>\n",
       "      <td>1.6123</td>\n",
       "      <td>1.65543</td>\n",
       "      <td>1.4041</td>\n",
       "      <td>2.26383</td>\n",
       "      <td>0.731253</td>\n",
       "      <td>0.620232</td>\n",
       "      <td>0.441729</td>\n",
       "      <td>3.41349</td>\n",
       "      <td>4.0245</td>\n",
       "      <td>5.6508</td>\n",
       "      <td>2.49612</td>\n",
       "    </tr>\n",
       "    <tr>\n",
       "      <td>1999-01-06 01:00:00</td>\n",
       "      <td>0.851571</td>\n",
       "      <td>0.602572</td>\n",
       "      <td>1.37239</td>\n",
       "      <td>1.1743</td>\n",
       "      <td>0.7076</td>\n",
       "      <td>1.6116</td>\n",
       "      <td>1.65955</td>\n",
       "      <td>1.41323</td>\n",
       "      <td>2.27756</td>\n",
       "      <td>0.728655</td>\n",
       "      <td>0.620501</td>\n",
       "      <td>0.439067</td>\n",
       "      <td>3.41182</td>\n",
       "      <td>4.0065</td>\n",
       "      <td>5.6621</td>\n",
       "      <td>2.48604</td>\n",
       "    </tr>\n",
       "    <tr>\n",
       "      <td>1999-01-07 01:00:00</td>\n",
       "      <td>0.859697</td>\n",
       "      <td>0.606817</td>\n",
       "      <td>1.3897</td>\n",
       "      <td>1.1632</td>\n",
       "      <td>0.70585</td>\n",
       "      <td>1.6165</td>\n",
       "      <td>1.64794</td>\n",
       "      <td>1.41673</td>\n",
       "      <td>2.29015</td>\n",
       "      <td>0.719579</td>\n",
       "      <td>0.61862</td>\n",
       "      <td>0.436653</td>\n",
       "      <td>3.45297</td>\n",
       "      <td>4.0165</td>\n",
       "      <td>5.6903</td>\n",
       "      <td>2.48469</td>\n",
       "    </tr>\n",
       "    <tr>\n",
       "      <td>1999-01-08 01:00:00</td>\n",
       "      <td>0.857706</td>\n",
       "      <td>0.608457</td>\n",
       "      <td>1.38417</td>\n",
       "      <td>1.1659</td>\n",
       "      <td>0.7094</td>\n",
       "      <td>1.6138</td>\n",
       "      <td>1.6435</td>\n",
       "      <td>1.40964</td>\n",
       "      <td>2.27488</td>\n",
       "      <td>0.722456</td>\n",
       "      <td>0.619655</td>\n",
       "      <td>0.439584</td>\n",
       "      <td>3.46196</td>\n",
       "      <td>4.0363</td>\n",
       "      <td>5.68974</td>\n",
       "      <td>2.50112</td>\n",
       "    </tr>\n",
       "    <tr>\n",
       "      <td>1999-01-09 01:00:00</td>\n",
       "      <td>0.857706</td>\n",
       "      <td>0.608457</td>\n",
       "      <td>1.38417</td>\n",
       "      <td>1.1659</td>\n",
       "      <td>0.7094</td>\n",
       "      <td>1.6138</td>\n",
       "      <td>1.6435</td>\n",
       "      <td>1.40964</td>\n",
       "      <td>2.27488</td>\n",
       "      <td>0.722456</td>\n",
       "      <td>0.619655</td>\n",
       "      <td>0.439584</td>\n",
       "      <td>3.46196</td>\n",
       "      <td>4.0363</td>\n",
       "      <td>5.68974</td>\n",
       "      <td>2.50112</td>\n",
       "    </tr>\n",
       "    <tr>\n",
       "      <td>1999-01-10 01:00:00</td>\n",
       "      <td>0.857706</td>\n",
       "      <td>0.608457</td>\n",
       "      <td>1.38417</td>\n",
       "      <td>1.1659</td>\n",
       "      <td>0.7094</td>\n",
       "      <td>1.6138</td>\n",
       "      <td>1.6435</td>\n",
       "      <td>1.40964</td>\n",
       "      <td>2.27488</td>\n",
       "      <td>0.722456</td>\n",
       "      <td>0.619655</td>\n",
       "      <td>0.439584</td>\n",
       "      <td>3.46196</td>\n",
       "      <td>4.0363</td>\n",
       "      <td>5.68974</td>\n",
       "      <td>2.50112</td>\n",
       "    </tr>\n",
       "    <tr>\n",
       "      <td>1999-01-11 01:00:00</td>\n",
       "      <td>0.864379</td>\n",
       "      <td>0.608869</td>\n",
       "      <td>1.392</td>\n",
       "      <td>1.1569</td>\n",
       "      <td>0.7044</td>\n",
       "      <td>1.6104</td>\n",
       "      <td>1.64239</td>\n",
       "      <td>1.41965</td>\n",
       "      <td>2.2862</td>\n",
       "      <td>0.718393</td>\n",
       "      <td>0.620964</td>\n",
       "      <td>0.437407</td>\n",
       "      <td>3.48518</td>\n",
       "      <td>4.032</td>\n",
       "      <td>5.72402</td>\n",
       "      <td>2.50373</td>\n",
       "    </tr>\n",
       "    <tr>\n",
       "      <td>1999-01-12 01:00:00</td>\n",
       "      <td>0.868056</td>\n",
       "      <td>0.613368</td>\n",
       "      <td>1.39514</td>\n",
       "      <td>1.152</td>\n",
       "      <td>0.7066</td>\n",
       "      <td>1.6072</td>\n",
       "      <td>1.63034</td>\n",
       "      <td>1.41523</td>\n",
       "      <td>2.27455</td>\n",
       "      <td>0.716775</td>\n",
       "      <td>0.6222</td>\n",
       "      <td>0.439647</td>\n",
       "      <td>3.50087</td>\n",
       "      <td>4.033</td>\n",
       "      <td>5.70761</td>\n",
       "      <td>2.50933</td>\n",
       "    </tr>\n",
       "    <tr>\n",
       "      <td>1999-01-13 01:00:00</td>\n",
       "      <td>0.851499</td>\n",
       "      <td>0.603202</td>\n",
       "      <td>1.35652</td>\n",
       "      <td>1.1744</td>\n",
       "      <td>0.7084</td>\n",
       "      <td>1.5931</td>\n",
       "      <td>1.65782</td>\n",
       "      <td>1.41163</td>\n",
       "      <td>2.24887</td>\n",
       "      <td>0.737179</td>\n",
       "      <td>0.627707</td>\n",
       "      <td>0.444668</td>\n",
       "      <td>3.5791</td>\n",
       "      <td>4.2033</td>\n",
       "      <td>5.93351</td>\n",
       "      <td>2.63844</td>\n",
       "    </tr>\n",
       "  </tbody>\n",
       "</table>\n",
       "</div>"
      ],
      "text/plain": [
       "                      USD-EUR   USD-GBP  USD-CHF EUR-USD  EUR-GBP EUR-CHF  \\\n",
       "1999-01-04 01:00:00  0.848248  0.603189  1.37145  1.1789   0.7111  1.6168   \n",
       "1999-01-05 01:00:00  0.848176  0.604071  1.36751   1.179   0.7122  1.6123   \n",
       "1999-01-06 01:00:00  0.851571  0.602572  1.37239  1.1743   0.7076  1.6116   \n",
       "1999-01-07 01:00:00  0.859697  0.606817   1.3897  1.1632  0.70585  1.6165   \n",
       "1999-01-08 01:00:00  0.857706  0.608457  1.38417  1.1659   0.7094  1.6138   \n",
       "1999-01-09 01:00:00  0.857706  0.608457  1.38417  1.1659   0.7094  1.6138   \n",
       "1999-01-10 01:00:00  0.857706  0.608457  1.38417  1.1659   0.7094  1.6138   \n",
       "1999-01-11 01:00:00  0.864379  0.608869    1.392  1.1569   0.7044  1.6104   \n",
       "1999-01-12 01:00:00  0.868056  0.613368  1.39514   1.152   0.7066  1.6072   \n",
       "1999-01-13 01:00:00  0.851499  0.603202  1.35652  1.1744   0.7084  1.5931   \n",
       "\n",
       "                     GBP-USD  GBP-EUR  GBP-CHF   CHF-USD   CHF-EUR   CHF-GBP  \\\n",
       "1999-01-04 01:00:00  1.65785  1.40627  2.27366  0.729156  0.618506  0.439819   \n",
       "1999-01-05 01:00:00  1.65543   1.4041  2.26383  0.731253  0.620232  0.441729   \n",
       "1999-01-06 01:00:00  1.65955  1.41323  2.27756  0.728655  0.620501  0.439067   \n",
       "1999-01-07 01:00:00  1.64794  1.41673  2.29015  0.719579   0.61862  0.436653   \n",
       "1999-01-08 01:00:00   1.6435  1.40964  2.27488  0.722456  0.619655  0.439584   \n",
       "1999-01-09 01:00:00   1.6435  1.40964  2.27488  0.722456  0.619655  0.439584   \n",
       "1999-01-10 01:00:00   1.6435  1.40964  2.27488  0.722456  0.619655  0.439584   \n",
       "1999-01-11 01:00:00  1.64239  1.41965   2.2862  0.718393  0.620964  0.437407   \n",
       "1999-01-12 01:00:00  1.63034  1.41523  2.27455  0.716775    0.6222  0.439647   \n",
       "1999-01-13 01:00:00  1.65782  1.41163  2.24887  0.737179  0.627707  0.444668   \n",
       "\n",
       "                     USD-PLN EUR-PLN  GBP-PLN  CHF-PLN  \n",
       "1999-01-04 01:00:00  3.45339  4.0712  5.72521  2.51806  \n",
       "1999-01-05 01:00:00  3.41349  4.0245   5.6508  2.49612  \n",
       "1999-01-06 01:00:00  3.41182  4.0065   5.6621  2.48604  \n",
       "1999-01-07 01:00:00  3.45297  4.0165   5.6903  2.48469  \n",
       "1999-01-08 01:00:00  3.46196  4.0363  5.68974  2.50112  \n",
       "1999-01-09 01:00:00  3.46196  4.0363  5.68974  2.50112  \n",
       "1999-01-10 01:00:00  3.46196  4.0363  5.68974  2.50112  \n",
       "1999-01-11 01:00:00  3.48518   4.032  5.72402  2.50373  \n",
       "1999-01-12 01:00:00  3.50087   4.033  5.70761  2.50933  \n",
       "1999-01-13 01:00:00   3.5791  4.2033  5.93351  2.63844  "
      ]
     },
     "execution_count": 3,
     "metadata": {},
     "output_type": "execute_result"
    }
   ],
   "source": [
    "df"
   ]
  },
  {
   "cell_type": "code",
   "execution_count": 24,
   "metadata": {},
   "outputs": [
    {
     "data": {
      "text/plain": [
       "0.8971023594"
      ]
     },
     "execution_count": 24,
     "metadata": {},
     "output_type": "execute_result"
    }
   ],
   "source": [
    "c.get_rates('USD', datetime(2020, 1, 4, 1, 0))['EUR']"
   ]
  },
  {
   "cell_type": "code",
   "execution_count": 44,
   "metadata": {},
   "outputs": [
    {
     "data": {
      "text/plain": [
       "7879"
      ]
     },
     "execution_count": 44,
     "metadata": {},
     "output_type": "execute_result"
    }
   ],
   "source": [
    "(datetime.now() - datetime(1999, 1, 4, 12, 0)).days"
   ]
  },
  {
   "cell_type": "code",
   "execution_count": 40,
   "metadata": {},
   "outputs": [
    {
     "data": {
      "text/html": [
       "<div>\n",
       "<style scoped>\n",
       "    .dataframe tbody tr th:only-of-type {\n",
       "        vertical-align: middle;\n",
       "    }\n",
       "\n",
       "    .dataframe tbody tr th {\n",
       "        vertical-align: top;\n",
       "    }\n",
       "\n",
       "    .dataframe thead th {\n",
       "        text-align: right;\n",
       "    }\n",
       "</style>\n",
       "<table border=\"1\" class=\"dataframe\">\n",
       "  <thead>\n",
       "    <tr style=\"text-align: right;\">\n",
       "      <th></th>\n",
       "      <th>a</th>\n",
       "      <th>b</th>\n",
       "    </tr>\n",
       "  </thead>\n",
       "  <tbody>\n",
       "    <tr>\n",
       "      <td>1999-01-04 12:00:00</td>\n",
       "      <td>NaN</td>\n",
       "      <td>NaN</td>\n",
       "    </tr>\n",
       "    <tr>\n",
       "      <td>1999-01-05 12:00:00</td>\n",
       "      <td>NaN</td>\n",
       "      <td>NaN</td>\n",
       "    </tr>\n",
       "    <tr>\n",
       "      <td>1999-01-06 12:00:00</td>\n",
       "      <td>NaN</td>\n",
       "      <td>NaN</td>\n",
       "    </tr>\n",
       "    <tr>\n",
       "      <td>1999-01-07 12:00:00</td>\n",
       "      <td>NaN</td>\n",
       "      <td>NaN</td>\n",
       "    </tr>\n",
       "    <tr>\n",
       "      <td>1999-01-08 12:00:00</td>\n",
       "      <td>NaN</td>\n",
       "      <td>NaN</td>\n",
       "    </tr>\n",
       "    <tr>\n",
       "      <td>1999-01-09 12:00:00</td>\n",
       "      <td>NaN</td>\n",
       "      <td>NaN</td>\n",
       "    </tr>\n",
       "    <tr>\n",
       "      <td>1999-01-10 12:00:00</td>\n",
       "      <td>NaN</td>\n",
       "      <td>NaN</td>\n",
       "    </tr>\n",
       "    <tr>\n",
       "      <td>1999-01-11 12:00:00</td>\n",
       "      <td>NaN</td>\n",
       "      <td>NaN</td>\n",
       "    </tr>\n",
       "    <tr>\n",
       "      <td>1999-01-12 12:00:00</td>\n",
       "      <td>NaN</td>\n",
       "      <td>NaN</td>\n",
       "    </tr>\n",
       "    <tr>\n",
       "      <td>1999-01-13 12:00:00</td>\n",
       "      <td>NaN</td>\n",
       "      <td>NaN</td>\n",
       "    </tr>\n",
       "  </tbody>\n",
       "</table>\n",
       "</div>"
      ],
      "text/plain": [
       "                       a    b\n",
       "1999-01-04 12:00:00  NaN  NaN\n",
       "1999-01-05 12:00:00  NaN  NaN\n",
       "1999-01-06 12:00:00  NaN  NaN\n",
       "1999-01-07 12:00:00  NaN  NaN\n",
       "1999-01-08 12:00:00  NaN  NaN\n",
       "1999-01-09 12:00:00  NaN  NaN\n",
       "1999-01-10 12:00:00  NaN  NaN\n",
       "1999-01-11 12:00:00  NaN  NaN\n",
       "1999-01-12 12:00:00  NaN  NaN\n",
       "1999-01-13 12:00:00  NaN  NaN"
      ]
     },
     "execution_count": 40,
     "metadata": {},
     "output_type": "execute_result"
    }
   ],
   "source": [
    "df"
   ]
  },
  {
   "cell_type": "code",
   "execution_count": 31,
   "metadata": {},
   "outputs": [
    {
     "data": {
      "text/plain": [
       "{'GBP': 0.6031894139,\n",
       " 'HKD': 7.7472219866,\n",
       " 'CHF': 1.37144796,\n",
       " 'SKK': 36.4670455509,\n",
       " 'DKK': 6.3195351599,\n",
       " 'LVL': 0.5656120112,\n",
       " 'ROL': 11121.3843413351,\n",
       " 'SEK': 8.0325727373,\n",
       " 'CZK': 29.7794554245,\n",
       " 'SGD': 1.6586648571,\n",
       " 'SIT': 160.3571125626,\n",
       " 'EUR': 0.8482483671,\n",
       " 'NOK': 7.5112392909,\n",
       " 'PLN': 3.4533887522,\n",
       " 'LTL': 4.0011875477,\n",
       " 'CYP': 0.4939435067,\n",
       " 'ZAR': 5.8832810247,\n",
       " 'CAD': 1.5271863602,\n",
       " 'ISK': 69.1152769531,\n",
       " 'JPY': 113.4362541352,\n",
       " 'EEK': 13.272202901,\n",
       " 'MTL': 0.3759436763,\n",
       " 'NZD': 1.8855712953,\n",
       " 'USD': 1.0,\n",
       " 'TRL': 315780.8126219357,\n",
       " 'KRW': 1186.351683773,\n",
       " 'HUF': 213.3174993638,\n",
       " 'AUD': 1.6201543812}"
      ]
     },
     "execution_count": 31,
     "metadata": {},
     "output_type": "execute_result"
    }
   ],
   "source": [
    "c.get_rates('USD', datetime(1999, 1, 4, 12, 0))"
   ]
  },
  {
   "cell_type": "code",
   "execution_count": 34,
   "metadata": {},
   "outputs": [
    {
     "data": {
      "text/plain": [
       "{'GBP': 1.0,\n",
       " 'HKD': 12.8437631838,\n",
       " 'CHF': 2.2736605259,\n",
       " 'SKK': 60.4570383912,\n",
       " 'DKK': 10.476866826,\n",
       " 'LVL': 0.9377021516,\n",
       " 'ROL': 18437.6318379975,\n",
       " 'SEK': 13.3168330755,\n",
       " 'CZK': 49.3699901561,\n",
       " 'SGD': 2.749824216,\n",
       " 'SIT': 265.8486851357,\n",
       " 'EUR': 1.406271973,\n",
       " 'NOK': 12.4525383209,\n",
       " 'PLN': 5.7252144565,\n",
       " 'LTL': 6.6333848966,\n",
       " 'CYP': 0.8188862326,\n",
       " 'ZAR': 9.7536211503,\n",
       " 'CAD': 2.5318520602,\n",
       " 'ISK': 114.58304036,\n",
       " 'JPY': 188.0607509492,\n",
       " 'EEK': 22.0033750527,\n",
       " 'MTL': 0.6232597384,\n",
       " 'NZD': 3.1260019688,\n",
       " 'USD': 1.657854029,\n",
       " 'TRL': 523518.4924764449,\n",
       " 'KRW': 1966.7979187175,\n",
       " 'HUF': 353.6492757699,\n",
       " 'AUD': 2.6859794684}"
      ]
     },
     "execution_count": 34,
     "metadata": {},
     "output_type": "execute_result"
    }
   ],
   "source": [
    "c.get_rates('GBP', datetime(1999, 1, 4, 12, 0))"
   ]
  },
  {
   "cell_type": "code",
   "execution_count": 7,
   "metadata": {},
   "outputs": [
    {
     "data": {
      "text/plain": [
       "{'GBP': 0.7686962446,\n",
       " 'HKD': 7.7502341821,\n",
       " 'IDR': 14600.0,\n",
       " 'ILS': 3.401771268,\n",
       " 'DKK': 6.3379034318,\n",
       " 'INR': 74.8871668228,\n",
       " 'CHF': 0.9149280422,\n",
       " 'MXN': 22.1494507366,\n",
       " 'CZK': 22.3520395129,\n",
       " 'SGD': 1.3762241335,\n",
       " 'THB': 31.4400068126,\n",
       " 'HRK': 6.376564762,\n",
       " 'EUR': 0.8515711488,\n",
       " 'MYR': 4.239461807,\n",
       " 'NOK': 9.1299497573,\n",
       " 'CNY': 7.0033211275,\n",
       " 'BGN': 1.6655028528,\n",
       " 'PHP': 49.1203270033,\n",
       " 'PLN': 3.7537256238,\n",
       " 'ZAR': 16.7819126288,\n",
       " 'CAD': 1.3430128587,\n",
       " 'ISK': 135.5701268841,\n",
       " 'BRL': 5.2106787022,\n",
       " 'RON': 4.1146214766,\n",
       " 'NZD': 1.5095801754,\n",
       " 'TRY': 6.9810099634,\n",
       " 'JPY': 105.2371625649,\n",
       " 'RUB': 73.7659030912,\n",
       " 'KRW': 1195.7421442562,\n",
       " 'USD': 1.0,\n",
       " 'AUD': 1.4004939113,\n",
       " 'HUF': 294.3029890147,\n",
       " 'SEK': 8.7769735161}"
      ]
     },
     "execution_count": 7,
     "metadata": {},
     "output_type": "execute_result"
    }
   ],
   "source": [
    "c.get_rates('USD')"
   ]
  },
  {
   "cell_type": "code",
   "execution_count": null,
   "metadata": {},
   "outputs": [],
   "source": []
  }
 ],
 "metadata": {
  "kernelspec": {
   "display_name": "Python 3",
   "language": "python",
   "name": "python3"
  },
  "language_info": {
   "codemirror_mode": {
    "name": "ipython",
    "version": 3
   },
   "file_extension": ".py",
   "mimetype": "text/x-python",
   "name": "python",
   "nbconvert_exporter": "python",
   "pygments_lexer": "ipython3",
   "version": "3.7.4"
  }
 },
 "nbformat": 4,
 "nbformat_minor": 2
}
