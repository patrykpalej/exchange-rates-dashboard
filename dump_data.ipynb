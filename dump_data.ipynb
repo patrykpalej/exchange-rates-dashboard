{
 "cells": [
  {
   "cell_type": "code",
   "execution_count": 12,
   "metadata": {},
   "outputs": [
    {
     "data": {
      "text/html": [
       "<style>.container { width:95% !important; }</style>"
      ],
      "text/plain": [
       "<IPython.core.display.HTML object>"
      ]
     },
     "metadata": {},
     "output_type": "display_data"
    }
   ],
   "source": [
    "import time\n",
    "import numpy as np\n",
    "import pandas as pd \n",
    "from datetime import datetime, date\n",
    "from datetime import timedelta\n",
    "import matplotlib.pyplot as plt\n",
    "\n",
    "from IPython.core.display import display, HTML\n",
    "display(HTML(\"<style>.container { width:95% !important; }</style>\"))\n",
    "\n",
    "from forex_python.converter import CurrencyRates\n",
    "c = CurrencyRates()"
   ]
  },
  {
   "cell_type": "code",
   "execution_count": 13,
   "metadata": {},
   "outputs": [
    {
     "data": {
      "text/plain": [
       "Timestamp('1999-01-04 00:00:00')"
      ]
     },
     "execution_count": 13,
     "metadata": {},
     "output_type": "execute_result"
    }
   ],
   "source": [
    "pd.to_datetime(date(1999, 1, 4))"
   ]
  },
  {
   "cell_type": "code",
   "execution_count": 4,
   "metadata": {},
   "outputs": [
    {
     "data": {
      "text/plain": [
       "{'GBP': 0.73792445,\n",
       " 'HKD': 7.8196762142,\n",
       " 'IDR': 13420.0,\n",
       " 'ILS': 3.4372768784,\n",
       " 'DKK': 6.1817351598,\n",
       " 'INR': 63.3698630137,\n",
       " 'CHF': 0.9760896638,\n",
       " 'MXN': 19.3662930677,\n",
       " 'CZK': 21.2486508925,\n",
       " 'SGD': 1.3277708593,\n",
       " 'THB': 32.1901203819,\n",
       " 'HRK': 6.1726857617,\n",
       " 'EUR': 0.8302200083,\n",
       " 'MYR': 4.0,\n",
       " 'NOK': 8.0878372769,\n",
       " 'CNY': 6.4882523869,\n",
       " 'BGN': 1.6237442922,\n",
       " 'PHP': 49.8671647987,\n",
       " 'PLN': 3.4498962225,\n",
       " 'ZAR': 12.3608136156,\n",
       " 'CAD': 1.2509755085,\n",
       " 'BRL': 3.2425902864,\n",
       " 'RON': 3.8481527605,\n",
       " 'NZD': 1.397841428,\n",
       " 'TRY': 3.7465338315,\n",
       " 'JPY': 113.2835201328,\n",
       " 'RUB': 57.096222499,\n",
       " 'KRW': 1063.6778746368,\n",
       " 'USD': 1.0,\n",
       " 'AUD': 1.2753009548,\n",
       " 'HUF': 256.3470319635,\n",
       " 'SEK': 8.1625570776}"
      ]
     },
     "execution_count": 4,
     "metadata": {},
     "output_type": "execute_result"
    }
   ],
   "source": [
    "c.get_rates('USD', datetime(2018, 1, 5))"
   ]
  },
  {
   "cell_type": "code",
   "execution_count": null,
   "metadata": {},
   "outputs": [],
   "source": []
  },
  {
   "cell_type": "code",
   "execution_count": 88,
   "metadata": {},
   "outputs": [],
   "source": [
    "days_elapsed = (datetime.now() - datetime(1999, 1, 4, 1, 0)).days + 1\n",
    "df = pd.DataFrame(columns=['USD-EUR','USD-GBP', 'USD-CHF', 'EUR-USD', 'EUR-GBP', 'EUR-CHF', 'GBP-USD', 'GBP-EUR', 'GBP-CHF', 'CHF-USD', 'CHF-EUR', 'CHF-GBP', 'USD-PLN', 'EUR-PLN', 'GBP-PLN', 'CHF-PLN'],\n",
    "                  index=pd.to_datetime([datetime(1999, 1, 4, 1, 0) + timedelta(days=x) for x in range(days_elapsed)]))\n",
    "\n",
    "for i in df.index:\n",
    "    time.sleep(0.2)\n",
    "    dt = pd.to_datetime(i)\n",
    "    \n",
    "    # USD\n",
    "    usd = c.get_rates('USD', dt)\n",
    "    df['USD-EUR'].loc[dt] = usd['EUR']\n",
    "    df['USD-GBP'].loc[dt] = usd['GBP']\n",
    "    df['USD-CHF'].loc[dt] = usd['CHF']\n",
    "    df['USD-PLN'].loc[dt] = usd['PLN']\n",
    "    \n",
    "    # EUR\n",
    "    eur = c.get_rates('EUR', dt)\n",
    "    df['EUR-USD'].loc[dt] = eur['USD']\n",
    "    df['EUR-GBP'].loc[dt] = eur['GBP']\n",
    "    df['EUR-CHF'].loc[dt] = eur['CHF']\n",
    "    df['EUR-PLN'].loc[dt] = eur['PLN']\n",
    "    \n",
    "    # GBP\n",
    "    gbp = c.get_rates('GBP', dt)\n",
    "    df['GBP-USD'].loc[dt] = gbp['USD']\n",
    "    df['GBP-EUR'].loc[dt] = gbp['EUR']\n",
    "    df['GBP-CHF'].loc[dt] = gbp['CHF']\n",
    "    df['GBP-PLN'].loc[dt] = gbp['PLN']\n",
    "    \n",
    "    # CHF\n",
    "    chf = c.get_rates('CHF', dt)\n",
    "    df['CHF-USD'].loc[dt] = chf['USD']\n",
    "    df['CHF-EUR'].loc[dt] = chf['EUR']\n",
    "    df['CHF-GBP'].loc[dt] = chf['GBP']\n",
    "    df['CHF-PLN'].loc[dt] = chf['PLN']\n",
    "    \n",
    "\n",
    "df.to_csv(\"exchange_rates.csv\", sep=';')"
   ]
  },
  {
   "cell_type": "code",
   "execution_count": null,
   "metadata": {
    "scrolled": true
   },
   "outputs": [],
   "source": [
    "df"
   ]
  },
  {
   "cell_type": "code",
   "execution_count": null,
   "metadata": {},
   "outputs": [],
   "source": []
  },
  {
   "cell_type": "code",
   "execution_count": 44,
   "metadata": {},
   "outputs": [
    {
     "data": {
      "text/plain": [
       "7879"
      ]
     },
     "execution_count": 44,
     "metadata": {},
     "output_type": "execute_result"
    }
   ],
   "source": [
    "(datetime.now() - datetime(1999, 1, 4, 12, 0)).days"
   ]
  },
  {
   "cell_type": "code",
   "execution_count": 40,
   "metadata": {},
   "outputs": [
    {
     "data": {
      "text/html": [
       "<div>\n",
       "<style scoped>\n",
       "    .dataframe tbody tr th:only-of-type {\n",
       "        vertical-align: middle;\n",
       "    }\n",
       "\n",
       "    .dataframe tbody tr th {\n",
       "        vertical-align: top;\n",
       "    }\n",
       "\n",
       "    .dataframe thead th {\n",
       "        text-align: right;\n",
       "    }\n",
       "</style>\n",
       "<table border=\"1\" class=\"dataframe\">\n",
       "  <thead>\n",
       "    <tr style=\"text-align: right;\">\n",
       "      <th></th>\n",
       "      <th>a</th>\n",
       "      <th>b</th>\n",
       "    </tr>\n",
       "  </thead>\n",
       "  <tbody>\n",
       "    <tr>\n",
       "      <td>1999-01-04 12:00:00</td>\n",
       "      <td>NaN</td>\n",
       "      <td>NaN</td>\n",
       "    </tr>\n",
       "    <tr>\n",
       "      <td>1999-01-05 12:00:00</td>\n",
       "      <td>NaN</td>\n",
       "      <td>NaN</td>\n",
       "    </tr>\n",
       "    <tr>\n",
       "      <td>1999-01-06 12:00:00</td>\n",
       "      <td>NaN</td>\n",
       "      <td>NaN</td>\n",
       "    </tr>\n",
       "    <tr>\n",
       "      <td>1999-01-07 12:00:00</td>\n",
       "      <td>NaN</td>\n",
       "      <td>NaN</td>\n",
       "    </tr>\n",
       "    <tr>\n",
       "      <td>1999-01-08 12:00:00</td>\n",
       "      <td>NaN</td>\n",
       "      <td>NaN</td>\n",
       "    </tr>\n",
       "    <tr>\n",
       "      <td>1999-01-09 12:00:00</td>\n",
       "      <td>NaN</td>\n",
       "      <td>NaN</td>\n",
       "    </tr>\n",
       "    <tr>\n",
       "      <td>1999-01-10 12:00:00</td>\n",
       "      <td>NaN</td>\n",
       "      <td>NaN</td>\n",
       "    </tr>\n",
       "    <tr>\n",
       "      <td>1999-01-11 12:00:00</td>\n",
       "      <td>NaN</td>\n",
       "      <td>NaN</td>\n",
       "    </tr>\n",
       "    <tr>\n",
       "      <td>1999-01-12 12:00:00</td>\n",
       "      <td>NaN</td>\n",
       "      <td>NaN</td>\n",
       "    </tr>\n",
       "    <tr>\n",
       "      <td>1999-01-13 12:00:00</td>\n",
       "      <td>NaN</td>\n",
       "      <td>NaN</td>\n",
       "    </tr>\n",
       "  </tbody>\n",
       "</table>\n",
       "</div>"
      ],
      "text/plain": [
       "                       a    b\n",
       "1999-01-04 12:00:00  NaN  NaN\n",
       "1999-01-05 12:00:00  NaN  NaN\n",
       "1999-01-06 12:00:00  NaN  NaN\n",
       "1999-01-07 12:00:00  NaN  NaN\n",
       "1999-01-08 12:00:00  NaN  NaN\n",
       "1999-01-09 12:00:00  NaN  NaN\n",
       "1999-01-10 12:00:00  NaN  NaN\n",
       "1999-01-11 12:00:00  NaN  NaN\n",
       "1999-01-12 12:00:00  NaN  NaN\n",
       "1999-01-13 12:00:00  NaN  NaN"
      ]
     },
     "execution_count": 40,
     "metadata": {},
     "output_type": "execute_result"
    }
   ],
   "source": [
    "df"
   ]
  },
  {
   "cell_type": "code",
   "execution_count": 31,
   "metadata": {},
   "outputs": [
    {
     "data": {
      "text/plain": [
       "{'GBP': 0.6031894139,\n",
       " 'HKD': 7.7472219866,\n",
       " 'CHF': 1.37144796,\n",
       " 'SKK': 36.4670455509,\n",
       " 'DKK': 6.3195351599,\n",
       " 'LVL': 0.5656120112,\n",
       " 'ROL': 11121.3843413351,\n",
       " 'SEK': 8.0325727373,\n",
       " 'CZK': 29.7794554245,\n",
       " 'SGD': 1.6586648571,\n",
       " 'SIT': 160.3571125626,\n",
       " 'EUR': 0.8482483671,\n",
       " 'NOK': 7.5112392909,\n",
       " 'PLN': 3.4533887522,\n",
       " 'LTL': 4.0011875477,\n",
       " 'CYP': 0.4939435067,\n",
       " 'ZAR': 5.8832810247,\n",
       " 'CAD': 1.5271863602,\n",
       " 'ISK': 69.1152769531,\n",
       " 'JPY': 113.4362541352,\n",
       " 'EEK': 13.272202901,\n",
       " 'MTL': 0.3759436763,\n",
       " 'NZD': 1.8855712953,\n",
       " 'USD': 1.0,\n",
       " 'TRL': 315780.8126219357,\n",
       " 'KRW': 1186.351683773,\n",
       " 'HUF': 213.3174993638,\n",
       " 'AUD': 1.6201543812}"
      ]
     },
     "execution_count": 31,
     "metadata": {},
     "output_type": "execute_result"
    }
   ],
   "source": [
    "c.get_rates('USD', datetime(1999, 1, 4, 12, 0))"
   ]
  },
  {
   "cell_type": "code",
   "execution_count": 34,
   "metadata": {},
   "outputs": [
    {
     "data": {
      "text/plain": [
       "{'GBP': 1.0,\n",
       " 'HKD': 12.8437631838,\n",
       " 'CHF': 2.2736605259,\n",
       " 'SKK': 60.4570383912,\n",
       " 'DKK': 10.476866826,\n",
       " 'LVL': 0.9377021516,\n",
       " 'ROL': 18437.6318379975,\n",
       " 'SEK': 13.3168330755,\n",
       " 'CZK': 49.3699901561,\n",
       " 'SGD': 2.749824216,\n",
       " 'SIT': 265.8486851357,\n",
       " 'EUR': 1.406271973,\n",
       " 'NOK': 12.4525383209,\n",
       " 'PLN': 5.7252144565,\n",
       " 'LTL': 6.6333848966,\n",
       " 'CYP': 0.8188862326,\n",
       " 'ZAR': 9.7536211503,\n",
       " 'CAD': 2.5318520602,\n",
       " 'ISK': 114.58304036,\n",
       " 'JPY': 188.0607509492,\n",
       " 'EEK': 22.0033750527,\n",
       " 'MTL': 0.6232597384,\n",
       " 'NZD': 3.1260019688,\n",
       " 'USD': 1.657854029,\n",
       " 'TRL': 523518.4924764449,\n",
       " 'KRW': 1966.7979187175,\n",
       " 'HUF': 353.6492757699,\n",
       " 'AUD': 2.6859794684}"
      ]
     },
     "execution_count": 34,
     "metadata": {},
     "output_type": "execute_result"
    }
   ],
   "source": [
    "c.get_rates('GBP', datetime(1999, 1, 4, 12, 0))"
   ]
  },
  {
   "cell_type": "code",
   "execution_count": 7,
   "metadata": {},
   "outputs": [
    {
     "data": {
      "text/plain": [
       "{'GBP': 0.7686962446,\n",
       " 'HKD': 7.7502341821,\n",
       " 'IDR': 14600.0,\n",
       " 'ILS': 3.401771268,\n",
       " 'DKK': 6.3379034318,\n",
       " 'INR': 74.8871668228,\n",
       " 'CHF': 0.9149280422,\n",
       " 'MXN': 22.1494507366,\n",
       " 'CZK': 22.3520395129,\n",
       " 'SGD': 1.3762241335,\n",
       " 'THB': 31.4400068126,\n",
       " 'HRK': 6.376564762,\n",
       " 'EUR': 0.8515711488,\n",
       " 'MYR': 4.239461807,\n",
       " 'NOK': 9.1299497573,\n",
       " 'CNY': 7.0033211275,\n",
       " 'BGN': 1.6655028528,\n",
       " 'PHP': 49.1203270033,\n",
       " 'PLN': 3.7537256238,\n",
       " 'ZAR': 16.7819126288,\n",
       " 'CAD': 1.3430128587,\n",
       " 'ISK': 135.5701268841,\n",
       " 'BRL': 5.2106787022,\n",
       " 'RON': 4.1146214766,\n",
       " 'NZD': 1.5095801754,\n",
       " 'TRY': 6.9810099634,\n",
       " 'JPY': 105.2371625649,\n",
       " 'RUB': 73.7659030912,\n",
       " 'KRW': 1195.7421442562,\n",
       " 'USD': 1.0,\n",
       " 'AUD': 1.4004939113,\n",
       " 'HUF': 294.3029890147,\n",
       " 'SEK': 8.7769735161}"
      ]
     },
     "execution_count": 7,
     "metadata": {},
     "output_type": "execute_result"
    }
   ],
   "source": [
    "c.get_rates('USD')"
   ]
  },
  {
   "cell_type": "code",
   "execution_count": null,
   "metadata": {},
   "outputs": [],
   "source": []
  }
 ],
 "metadata": {
  "kernelspec": {
   "display_name": "Python 3",
   "language": "python",
   "name": "python3"
  },
  "language_info": {
   "codemirror_mode": {
    "name": "ipython",
    "version": 3
   },
   "file_extension": ".py",
   "mimetype": "text/x-python",
   "name": "python",
   "nbconvert_exporter": "python",
   "pygments_lexer": "ipython3",
   "version": "3.7.4"
  }
 },
 "nbformat": 4,
 "nbformat_minor": 2
}
